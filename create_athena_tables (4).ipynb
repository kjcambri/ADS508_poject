{
 "cells": [
  {
   "cell_type": "code",
   "execution_count": 2,
   "metadata": {},
   "outputs": [],
   "source": [
    "import boto3\n",
    "import sagemaker\n",
    "\n",
    "sess = sagemaker.Session()\n",
    "bucket = sess.default_bucket()\n",
    "role = sagemaker.get_execution_role()\n",
    "region_name = boto3.Session().region_name"
   ]
  },
  {
   "cell_type": "code",
   "execution_count": 3,
   "metadata": {},
   "outputs": [],
   "source": [
    "#variable to store all tables created\n",
    "ingest_create_athena_table_csv_passed = False"
   ]
  },
  {
   "cell_type": "code",
   "execution_count": 4,
   "metadata": {},
   "outputs": [],
   "source": [
    "#Retrieving stores database\n",
    "%store -r ingest_create_athena_db_passed"
   ]
  },
  {
   "cell_type": "code",
   "execution_count": 5,
   "metadata": {},
   "outputs": [
    {
     "name": "stdout",
     "output_type": "stream",
     "text": [
      "True\n"
     ]
    }
   ],
   "source": [
    "#Checking for returned database\n",
    "print(ingest_create_athena_db_passed)"
   ]
  },
  {
   "cell_type": "code",
   "execution_count": 6,
   "metadata": {},
   "outputs": [],
   "source": [
    "#Retrieving stored private s3 bucket\n",
    "%store -r s3_private_path_csv_credit_card_trans\n",
    "%store -r s3_private_path_csv_user_credit_card_trans\n",
    "%store -r s3_private_path_csv_card_info\n",
    "%store -r s3_private_path_csv_user_info"
   ]
  },
  {
   "cell_type": "code",
   "execution_count": 7,
   "metadata": {},
   "outputs": [
    {
     "name": "stdout",
     "output_type": "stream",
     "text": [
      "s3://sagemaker-us-east-1-584771966647/finalproject-datasets/csv/credit_card_trans/\n",
      "s3://sagemaker-us-east-1-584771966647/finalproject-datasets/csv/user_credit_card_trans/\n",
      "s3://sagemaker-us-east-1-584771966647/finalproject-datasets/csv/card_info/\n",
      "s3://sagemaker-us-east-1-584771966647/finalproject-datasets/csv/user_info/\n"
     ]
    }
   ],
   "source": [
    "#Checking bucket is returned\n",
    "print(s3_private_path_csv_credit_card_trans)\n",
    "print(s3_private_path_csv_user_credit_card_trans)\n",
    "print(s3_private_path_csv_card_info)\n",
    "print(s3_private_path_csv_user_info)"
   ]
  },
  {
   "cell_type": "code",
   "execution_count": 8,
   "metadata": {},
   "outputs": [
    {
     "name": "stdout",
     "output_type": "stream",
     "text": [
      "/opt/conda/lib/python3.7/site-packages/secretstorage/dhcrypto.py:16: CryptographyDeprecationWarning: int_from_bytes is deprecated, use int.from_bytes instead\n",
      "  from cryptography.utils import int_from_bytes\n",
      "/opt/conda/lib/python3.7/site-packages/secretstorage/util.py:25: CryptographyDeprecationWarning: int_from_bytes is deprecated, use int.from_bytes instead\n",
      "  from cryptography.utils import int_from_bytes\n",
      "Requirement already satisfied: pyathena in /opt/conda/lib/python3.7/site-packages (2.5.1)\n",
      "Requirement already satisfied: tenacity>=4.1.0 in /opt/conda/lib/python3.7/site-packages (from pyathena) (8.0.1)\n",
      "Requirement already satisfied: boto3>=1.4.4 in /opt/conda/lib/python3.7/site-packages (from pyathena) (1.20.23)\n",
      "Requirement already satisfied: botocore>=1.5.52 in /opt/conda/lib/python3.7/site-packages (from pyathena) (1.23.23)\n",
      "Requirement already satisfied: jmespath<1.0.0,>=0.7.1 in /opt/conda/lib/python3.7/site-packages (from boto3>=1.4.4->pyathena) (0.10.0)\n",
      "Requirement already satisfied: s3transfer<0.6.0,>=0.5.0 in /opt/conda/lib/python3.7/site-packages (from boto3>=1.4.4->pyathena) (0.5.0)\n",
      "Requirement already satisfied: python-dateutil<3.0.0,>=2.1 in /opt/conda/lib/python3.7/site-packages (from botocore>=1.5.52->pyathena) (2.8.1)\n",
      "Requirement already satisfied: urllib3<1.27,>=1.25.4 in /opt/conda/lib/python3.7/site-packages (from botocore>=1.5.52->pyathena) (1.26.7)\n",
      "Requirement already satisfied: six>=1.5 in /opt/conda/lib/python3.7/site-packages (from python-dateutil<3.0.0,>=2.1->botocore>=1.5.52->pyathena) (1.14.0)\n",
      "\u001b[33mWARNING: Running pip as the 'root' user can result in broken permissions and conflicting behaviour with the system package manager. It is recommended to use a virtual environment instead: https://pip.pypa.io/warnings/venv\u001b[0m\n",
      "\u001b[33mWARNING: You are using pip version 21.3.1; however, version 22.0.4 is available.\n",
      "You should consider upgrading via the '/opt/conda/bin/python -m pip install --upgrade pip' command.\u001b[0m\n"
     ]
    }
   ],
   "source": [
    "#Creating tables in database\n",
    "!pip install pyathena\n",
    "import pandas as pd\n",
    "from pyathena import connect\n",
    "from pyathena.pandas.cursor import PandasCursor\n",
    "from pyathena.pandas.util import as_pandas"
   ]
  },
  {
   "cell_type": "code",
   "execution_count": 9,
   "metadata": {},
   "outputs": [],
   "source": [
    "# Set S3 staging directory -- this is a temporary directory used for Athena queries\n",
    "s3_staging_directory = \"s3://{0}/athena/staging\".format(bucket)"
   ]
  },
  {
   "cell_type": "code",
   "execution_count": 10,
   "metadata": {},
   "outputs": [],
   "source": [
    "# Set athena database name and table names\n",
    "database_name = \"credit_card_fraud_db\"\n",
    "table_one_csv = \"user_credit_card_trans\"\n",
    "table_two_csv = \"credit_card_trans\"\n",
    "table_three_csv = \"cards_info\"\n",
    "table_four_csv = \"users_info\""
   ]
  },
  {
   "cell_type": "code",
   "execution_count": 11,
   "metadata": {},
   "outputs": [],
   "source": [
    "cursor = connect(region_name = region_name, s3_staging_dir = s3_staging_directory).cursor()"
   ]
  },
  {
   "cell_type": "code",
   "execution_count": 12,
   "metadata": {},
   "outputs": [
    {
     "name": "stdout",
     "output_type": "stream",
     "text": [
      "CREATE EXTERNAL TABLE IF NOT EXISTS credit_card_fraud_db.user_credit_card_trans(\n",
      "        `User` int,\n",
      "        Card int,\n",
      "        Year int,\n",
      "        Month int,\n",
      "        Day int,\n",
      "        Time string,\n",
      "        Amount string,\n",
      "        Use_Chip string,\n",
      "        Merchant_Name string,\n",
      "        Merchant_City string,\n",
      "        Merchant_State string,\n",
      "        Zip double,\n",
      "        MCC int,\n",
      "        Errors string,\n",
      "        Is_Fraud string\n",
      ") ROW FORMAT DELIMITED FIELDS TERMINATED BY ',' LINES TERMINATED BY '\\n' LOCATION 's3://sagemaker-us-east-1-584771966647/finalproject-datasets/csv/user_credit_card_trans/'\n",
      "TBLPROPERTIES ('skip.header.line.count'='1')\n"
     ]
    }
   ],
   "source": [
    "#SQL statement to create table 1\n",
    "\n",
    "table_one = \"\"\"CREATE EXTERNAL TABLE IF NOT EXISTS {}.{}(\n",
    "        `User` int,\n",
    "        Card int,\n",
    "        Year int,\n",
    "        Month int,\n",
    "        Day int,\n",
    "        Time string,\n",
    "        Amount string,\n",
    "        Use_Chip string,\n",
    "        Merchant_Name string,\n",
    "        Merchant_City string,\n",
    "        Merchant_State string,\n",
    "        Zip double,\n",
    "        MCC int,\n",
    "        Errors string,\n",
    "        Is_Fraud string\n",
    ") ROW FORMAT DELIMITED FIELDS TERMINATED BY ',' LINES TERMINATED BY '\\\\n' LOCATION '{}'\n",
    "TBLPROPERTIES ('skip.header.line.count'='1')\"\"\".format(\n",
    "    database_name, table_one_csv, s3_private_path_csv_user_credit_card_trans\n",
    ")\n",
    "print(table_one)"
   ]
  },
  {
   "cell_type": "code",
   "execution_count": 13,
   "metadata": {},
   "outputs": [
    {
     "data": {
      "text/plain": [
       "<pyathena.cursor.Cursor at 0x7f6a7e5868d0>"
      ]
     },
     "execution_count": 13,
     "metadata": {},
     "output_type": "execute_result"
    }
   ],
   "source": [
    "cursor.execute(table_one)"
   ]
  },
  {
   "cell_type": "code",
   "execution_count": 14,
   "metadata": {},
   "outputs": [
    {
     "name": "stdout",
     "output_type": "stream",
     "text": [
      "CREATE EXTERNAL TABLE IF NOT EXISTS credit_card_fraud_db.credit_card_trans(\n",
      "        `User` int,\n",
      "        Card int,\n",
      "        Year int,\n",
      "        Month int,\n",
      "        Day int,\n",
      "        Time string,\n",
      "        Amount string,\n",
      "        Use_Chip string,\n",
      "        Merchant_Name string,\n",
      "        Merchant_City string,\n",
      "        Merchant_State string,\n",
      "        Zip double,\n",
      "        MCC int,\n",
      "        Errors string,\n",
      "        Is_Fraud string\n",
      ") ROW FORMAT DELIMITED FIELDS TERMINATED BY ',' LINES TERMINATED BY '\\n' LOCATION 's3://sagemaker-us-east-1-584771966647/finalproject-datasets/csv/credit_card_trans/'\n",
      "TBLPROPERTIES ('skip.header.line.count'='1')\n"
     ]
    }
   ],
   "source": [
    "#SQL statement to create table 2\n",
    "\n",
    "table_two = \"\"\"CREATE EXTERNAL TABLE IF NOT EXISTS {}.{}(\n",
    "        `User` int,\n",
    "        Card int,\n",
    "        Year int,\n",
    "        Month int,\n",
    "        Day int,\n",
    "        Time string,\n",
    "        Amount string,\n",
    "        Use_Chip string,\n",
    "        Merchant_Name string,\n",
    "        Merchant_City string,\n",
    "        Merchant_State string,\n",
    "        Zip double,\n",
    "        MCC int,\n",
    "        Errors string,\n",
    "        Is_Fraud string\n",
    ") ROW FORMAT DELIMITED FIELDS TERMINATED BY ',' LINES TERMINATED BY '\\\\n' LOCATION '{}'\n",
    "TBLPROPERTIES ('skip.header.line.count'='1')\"\"\".format(\n",
    "    database_name, table_two_csv, s3_private_path_csv_credit_card_trans\n",
    ")\n",
    "print(table_two)"
   ]
  },
  {
   "cell_type": "code",
   "execution_count": 15,
   "metadata": {},
   "outputs": [
    {
     "data": {
      "text/plain": [
       "<pyathena.cursor.Cursor at 0x7f6a7e5868d0>"
      ]
     },
     "execution_count": 15,
     "metadata": {},
     "output_type": "execute_result"
    }
   ],
   "source": [
    "cursor.execute(table_two)"
   ]
  },
  {
   "cell_type": "code",
   "execution_count": 16,
   "metadata": {},
   "outputs": [
    {
     "name": "stdout",
     "output_type": "stream",
     "text": [
      "CREATE EXTERNAL TABLE IF NOT EXISTS credit_card_fraud_db.cards_info(\n",
      "        `User` int,\n",
      "        CARD_INDEX int,\n",
      "        Card_Brand string,\n",
      "        Card_Type string,\n",
      "        Card_Number int,\n",
      "        Expires string,\n",
      "        CVV int,\n",
      "        Has_Chip string,\n",
      "        Cards_Issued int,\n",
      "        Credit_Limit string,\n",
      "        Acct_Open_Date string,\n",
      "        Year_PIN_last_Changed int,\n",
      "        Card_On_Dark_Web string\n",
      ") ROW FORMAT DELIMITED FIELDS TERMINATED BY ',' LINES TERMINATED BY '\\n' LOCATION 's3://sagemaker-us-east-1-584771966647/finalproject-datasets/csv/card_info/'\n",
      "TBLPROPERTIES ('skip.header.line.count'='1')\n"
     ]
    }
   ],
   "source": [
    "#SQL statement to execute\n",
    "\n",
    "table_three = \"\"\"CREATE EXTERNAL TABLE IF NOT EXISTS {}.{}(\n",
    "        `User` int,\n",
    "        CARD_INDEX int,\n",
    "        Card_Brand string,\n",
    "        Card_Type string,\n",
    "        Card_Number int,\n",
    "        Expires string,\n",
    "        CVV int,\n",
    "        Has_Chip string,\n",
    "        Cards_Issued int,\n",
    "        Credit_Limit string,\n",
    "        Acct_Open_Date string,\n",
    "        Year_PIN_last_Changed int,\n",
    "        Card_On_Dark_Web string\n",
    ") ROW FORMAT DELIMITED FIELDS TERMINATED BY ',' LINES TERMINATED BY '\\\\n' LOCATION '{}'\n",
    "TBLPROPERTIES ('skip.header.line.count'='1')\"\"\".format(\n",
    "    database_name, table_three_csv, s3_private_path_csv_card_info\n",
    ")\n",
    "print(table_three)"
   ]
  },
  {
   "cell_type": "code",
   "execution_count": 17,
   "metadata": {},
   "outputs": [
    {
     "data": {
      "text/plain": [
       "<pyathena.cursor.Cursor at 0x7f6a7e5868d0>"
      ]
     },
     "execution_count": 17,
     "metadata": {},
     "output_type": "execute_result"
    }
   ],
   "source": [
    "cursor.execute(table_three)"
   ]
  },
  {
   "cell_type": "code",
   "execution_count": 18,
   "metadata": {},
   "outputs": [
    {
     "name": "stdout",
     "output_type": "stream",
     "text": [
      "CREATE EXTERNAL TABLE IF NOT EXISTS credit_card_fraud_db.users_info(\n",
      "        Person string,\n",
      "        Current_Age int,\n",
      "        Retirement_Age int,\n",
      "        Birth_Year int,\n",
      "        Birth_Month int,\n",
      "        Gender string,\n",
      "        Address string,\n",
      "        Apartment int,\n",
      "        City string,\n",
      "        State string,\n",
      "        Zipcode int,\n",
      "        Latitude double,\n",
      "        Longitude double,\n",
      "        Per_Capita_Income_Zipcode string,\n",
      "        yearly_income_person string,\n",
      "        Total_Debt string,\n",
      "        Fico_score int,\n",
      "        Num_Credit_Cards int\n",
      ") ROW FORMAT DELIMITED FIELDS TERMINATED BY ',' LINES TERMINATED BY '\\n' LOCATION 's3://sagemaker-us-east-1-584771966647/finalproject-datasets/csv/user_info/'\n",
      "TBLPROPERTIES ('skip.header.line.count'='1')\n"
     ]
    }
   ],
   "source": [
    "#SQL statement to execute\n",
    "\n",
    "table_four = \"\"\"CREATE EXTERNAL TABLE IF NOT EXISTS {}.{}(\n",
    "        Person string,\n",
    "        Current_Age int,\n",
    "        Retirement_Age int,\n",
    "        Birth_Year int,\n",
    "        Birth_Month int,\n",
    "        Gender string,\n",
    "        Address string,\n",
    "        Apartment int,\n",
    "        City string,\n",
    "        State string,\n",
    "        Zipcode int,\n",
    "        Latitude double,\n",
    "        Longitude double,\n",
    "        Per_Capita_Income_Zipcode string,\n",
    "        yearly_income_person string,\n",
    "        Total_Debt string,\n",
    "        Fico_score int,\n",
    "        Num_Credit_Cards int\n",
    ") ROW FORMAT DELIMITED FIELDS TERMINATED BY ',' LINES TERMINATED BY '\\\\n' LOCATION '{}'\n",
    "TBLPROPERTIES ('skip.header.line.count'='1')\"\"\".format(\n",
    "    database_name, table_four_csv, s3_private_path_csv_user_info\n",
    ")\n",
    "print(table_four)"
   ]
  },
  {
   "cell_type": "code",
   "execution_count": 19,
   "metadata": {},
   "outputs": [
    {
     "data": {
      "text/plain": [
       "<pyathena.cursor.Cursor at 0x7f6a7e5868d0>"
      ]
     },
     "execution_count": 19,
     "metadata": {},
     "output_type": "execute_result"
    }
   ],
   "source": [
    "cursor.execute(table_four)"
   ]
  },
  {
   "cell_type": "code",
   "execution_count": 20,
   "metadata": {},
   "outputs": [
    {
     "data": {
      "text/plain": [
       "<pyathena.cursor.Cursor at 0x7f6a7e5868d0>"
      ]
     },
     "execution_count": 20,
     "metadata": {},
     "output_type": "execute_result"
    }
   ],
   "source": [
    "#Verifying tables are created\n",
    "statement = \"SHOW TABLES in {}\".format(database_name)\n",
    "\n",
    "cursor.execute(statement)"
   ]
  },
  {
   "cell_type": "code",
   "execution_count": 21,
   "metadata": {},
   "outputs": [
    {
     "data": {
      "text/html": [
       "<div>\n",
       "<style scoped>\n",
       "    .dataframe tbody tr th:only-of-type {\n",
       "        vertical-align: middle;\n",
       "    }\n",
       "\n",
       "    .dataframe tbody tr th {\n",
       "        vertical-align: top;\n",
       "    }\n",
       "\n",
       "    .dataframe thead th {\n",
       "        text-align: right;\n",
       "    }\n",
       "</style>\n",
       "<table border=\"1\" class=\"dataframe\">\n",
       "  <thead>\n",
       "    <tr style=\"text-align: right;\">\n",
       "      <th></th>\n",
       "      <th>tab_name</th>\n",
       "    </tr>\n",
       "  </thead>\n",
       "  <tbody>\n",
       "    <tr>\n",
       "      <th>0</th>\n",
       "      <td>cards_info</td>\n",
       "    </tr>\n",
       "    <tr>\n",
       "      <th>1</th>\n",
       "      <td>credit_card_trans</td>\n",
       "    </tr>\n",
       "    <tr>\n",
       "      <th>2</th>\n",
       "      <td>user_credit_card_trans</td>\n",
       "    </tr>\n",
       "    <tr>\n",
       "      <th>3</th>\n",
       "      <td>users_info</td>\n",
       "    </tr>\n",
       "  </tbody>\n",
       "</table>\n",
       "</div>"
      ],
      "text/plain": [
       "                 tab_name\n",
       "0              cards_info\n",
       "1       credit_card_trans\n",
       "2  user_credit_card_trans\n",
       "3              users_info"
      ]
     },
     "execution_count": 21,
     "metadata": {},
     "output_type": "execute_result"
    }
   ],
   "source": [
    "df_tables = as_pandas(cursor)\n",
    "df_tables.head()"
   ]
  },
  {
   "cell_type": "code",
   "execution_count": 22,
   "metadata": {},
   "outputs": [],
   "source": [
    "#variable to store all joined tables\n",
    "ingest_joined_athena_table_csv_passed = False"
   ]
  },
  {
   "cell_type": "code",
   "execution_count": 23,
   "metadata": {},
   "outputs": [],
   "source": [
    "conn = connect(region_name = region_name, s3_staging_dir = s3_staging_directory)"
   ]
  },
  {
   "cell_type": "markdown",
   "metadata": {},
   "source": [
    "# Querying with Athena"
   ]
  },
  {
   "cell_type": "code",
   "execution_count": 24,
   "metadata": {},
   "outputs": [
    {
     "name": "stdout",
     "output_type": "stream",
     "text": [
      "SELECT * FROM credit_card_fraud_db.cards_info \n",
      "            WHERE card_on_dark_web = 'Yes' LIMIT 1000\n"
     ]
    }
   ],
   "source": [
    "card_on_dark_web = 'Yes'\n",
    "statement = \"\"\"SELECT * FROM {}.{} \n",
    "            WHERE card_on_dark_web = '{}' LIMIT 1000\"\"\".format(database_name, table_three_csv, card_on_dark_web)\n",
    "\n",
    "print(statement)"
   ]
  },
  {
   "cell_type": "code",
   "execution_count": null,
   "metadata": {},
   "outputs": [],
   "source": []
  },
  {
   "cell_type": "code",
   "execution_count": 25,
   "metadata": {},
   "outputs": [],
   "source": [
    "df_cards_info = pd.read_sql('SELECT * FROM {}.{} LIMIT 1000'.format(database_name, table_three_csv), conn)"
   ]
  },
  {
   "cell_type": "code",
   "execution_count": 26,
   "metadata": {},
   "outputs": [
    {
     "data": {
      "text/html": [
       "<div>\n",
       "<style scoped>\n",
       "    .dataframe tbody tr th:only-of-type {\n",
       "        vertical-align: middle;\n",
       "    }\n",
       "\n",
       "    .dataframe tbody tr th {\n",
       "        vertical-align: top;\n",
       "    }\n",
       "\n",
       "    .dataframe thead th {\n",
       "        text-align: right;\n",
       "    }\n",
       "</style>\n",
       "<table border=\"1\" class=\"dataframe\">\n",
       "  <thead>\n",
       "    <tr style=\"text-align: right;\">\n",
       "      <th></th>\n",
       "      <th>user</th>\n",
       "      <th>card_index</th>\n",
       "      <th>card_brand</th>\n",
       "      <th>card_type</th>\n",
       "      <th>card_number</th>\n",
       "      <th>expires</th>\n",
       "      <th>cvv</th>\n",
       "      <th>has_chip</th>\n",
       "      <th>cards_issued</th>\n",
       "      <th>credit_limit</th>\n",
       "      <th>acct_open_date</th>\n",
       "      <th>year_pin_last_changed</th>\n",
       "      <th>card_on_dark_web</th>\n",
       "    </tr>\n",
       "  </thead>\n",
       "  <tbody>\n",
       "    <tr>\n",
       "      <th>0</th>\n",
       "      <td>0</td>\n",
       "      <td>0</td>\n",
       "      <td>Visa</td>\n",
       "      <td>Debit</td>\n",
       "      <td>None</td>\n",
       "      <td>12/2022</td>\n",
       "      <td>623</td>\n",
       "      <td>YES</td>\n",
       "      <td>2</td>\n",
       "      <td>$24295</td>\n",
       "      <td>09/2002</td>\n",
       "      <td>2008</td>\n",
       "      <td>No</td>\n",
       "    </tr>\n",
       "    <tr>\n",
       "      <th>1</th>\n",
       "      <td>0</td>\n",
       "      <td>1</td>\n",
       "      <td>Visa</td>\n",
       "      <td>Debit</td>\n",
       "      <td>None</td>\n",
       "      <td>12/2020</td>\n",
       "      <td>393</td>\n",
       "      <td>YES</td>\n",
       "      <td>2</td>\n",
       "      <td>$21968</td>\n",
       "      <td>04/2014</td>\n",
       "      <td>2014</td>\n",
       "      <td>No</td>\n",
       "    </tr>\n",
       "    <tr>\n",
       "      <th>2</th>\n",
       "      <td>0</td>\n",
       "      <td>2</td>\n",
       "      <td>Visa</td>\n",
       "      <td>Debit</td>\n",
       "      <td>None</td>\n",
       "      <td>02/2024</td>\n",
       "      <td>719</td>\n",
       "      <td>YES</td>\n",
       "      <td>2</td>\n",
       "      <td>$46414</td>\n",
       "      <td>07/2003</td>\n",
       "      <td>2004</td>\n",
       "      <td>No</td>\n",
       "    </tr>\n",
       "    <tr>\n",
       "      <th>3</th>\n",
       "      <td>0</td>\n",
       "      <td>3</td>\n",
       "      <td>Visa</td>\n",
       "      <td>Credit</td>\n",
       "      <td>None</td>\n",
       "      <td>08/2024</td>\n",
       "      <td>693</td>\n",
       "      <td>NO</td>\n",
       "      <td>1</td>\n",
       "      <td>$12400</td>\n",
       "      <td>01/2003</td>\n",
       "      <td>2012</td>\n",
       "      <td>No</td>\n",
       "    </tr>\n",
       "    <tr>\n",
       "      <th>4</th>\n",
       "      <td>0</td>\n",
       "      <td>4</td>\n",
       "      <td>Mastercard</td>\n",
       "      <td>Debit (Prepaid)</td>\n",
       "      <td>None</td>\n",
       "      <td>03/2009</td>\n",
       "      <td>75</td>\n",
       "      <td>YES</td>\n",
       "      <td>1</td>\n",
       "      <td>$28</td>\n",
       "      <td>09/2008</td>\n",
       "      <td>2009</td>\n",
       "      <td>No</td>\n",
       "    </tr>\n",
       "  </tbody>\n",
       "</table>\n",
       "</div>"
      ],
      "text/plain": [
       "   user  card_index  card_brand        card_type card_number  expires  cvv  \\\n",
       "0     0           0        Visa            Debit        None  12/2022  623   \n",
       "1     0           1        Visa            Debit        None  12/2020  393   \n",
       "2     0           2        Visa            Debit        None  02/2024  719   \n",
       "3     0           3        Visa           Credit        None  08/2024  693   \n",
       "4     0           4  Mastercard  Debit (Prepaid)        None  03/2009   75   \n",
       "\n",
       "  has_chip  cards_issued credit_limit acct_open_date  year_pin_last_changed  \\\n",
       "0      YES             2       $24295        09/2002                   2008   \n",
       "1      YES             2       $21968        04/2014                   2014   \n",
       "2      YES             2       $46414        07/2003                   2004   \n",
       "3       NO             1       $12400        01/2003                   2012   \n",
       "4      YES             1          $28        09/2008                   2009   \n",
       "\n",
       "  card_on_dark_web  \n",
       "0               No  \n",
       "1               No  \n",
       "2               No  \n",
       "3               No  \n",
       "4               No  "
      ]
     },
     "execution_count": 26,
     "metadata": {},
     "output_type": "execute_result"
    }
   ],
   "source": [
    "df_cards_info.head()"
   ]
  },
  {
   "cell_type": "code",
   "execution_count": 27,
   "metadata": {},
   "outputs": [],
   "source": [
    "df_user_info = pd.read_sql('SELECT * FROM {}.{} LIMIT 1000'.format(database_name, table_four_csv), conn)"
   ]
  },
  {
   "cell_type": "code",
   "execution_count": 28,
   "metadata": {},
   "outputs": [
    {
     "data": {
      "text/html": [
       "<div>\n",
       "<style scoped>\n",
       "    .dataframe tbody tr th:only-of-type {\n",
       "        vertical-align: middle;\n",
       "    }\n",
       "\n",
       "    .dataframe tbody tr th {\n",
       "        vertical-align: top;\n",
       "    }\n",
       "\n",
       "    .dataframe thead th {\n",
       "        text-align: right;\n",
       "    }\n",
       "</style>\n",
       "<table border=\"1\" class=\"dataframe\">\n",
       "  <thead>\n",
       "    <tr style=\"text-align: right;\">\n",
       "      <th></th>\n",
       "      <th>person</th>\n",
       "      <th>current_age</th>\n",
       "      <th>retirement_age</th>\n",
       "      <th>birth_year</th>\n",
       "      <th>birth_month</th>\n",
       "      <th>gender</th>\n",
       "      <th>address</th>\n",
       "      <th>apartment</th>\n",
       "      <th>city</th>\n",
       "      <th>state</th>\n",
       "      <th>zipcode</th>\n",
       "      <th>latitude</th>\n",
       "      <th>longitude</th>\n",
       "      <th>per_capita_income_zipcode</th>\n",
       "      <th>yearly_income_person</th>\n",
       "      <th>total_debt</th>\n",
       "      <th>fico_score</th>\n",
       "      <th>num_credit_cards</th>\n",
       "    </tr>\n",
       "  </thead>\n",
       "  <tbody>\n",
       "    <tr>\n",
       "      <th>0</th>\n",
       "      <td>Hazel Robinson</td>\n",
       "      <td>53</td>\n",
       "      <td>66</td>\n",
       "      <td>1966</td>\n",
       "      <td>11</td>\n",
       "      <td>Female</td>\n",
       "      <td>462 Rose Lane</td>\n",
       "      <td>NaN</td>\n",
       "      <td>La Verne</td>\n",
       "      <td>CA</td>\n",
       "      <td>91750</td>\n",
       "      <td>34.15</td>\n",
       "      <td>-117.76</td>\n",
       "      <td>$29278</td>\n",
       "      <td>$59696</td>\n",
       "      <td>$127613</td>\n",
       "      <td>787</td>\n",
       "      <td>5</td>\n",
       "    </tr>\n",
       "    <tr>\n",
       "      <th>1</th>\n",
       "      <td>Sasha Sadr</td>\n",
       "      <td>53</td>\n",
       "      <td>68</td>\n",
       "      <td>1966</td>\n",
       "      <td>12</td>\n",
       "      <td>Female</td>\n",
       "      <td>3606 Federal Boulevard</td>\n",
       "      <td>NaN</td>\n",
       "      <td>Little Neck</td>\n",
       "      <td>NY</td>\n",
       "      <td>11363</td>\n",
       "      <td>40.76</td>\n",
       "      <td>-73.74</td>\n",
       "      <td>$37891</td>\n",
       "      <td>$77254</td>\n",
       "      <td>$191349</td>\n",
       "      <td>701</td>\n",
       "      <td>5</td>\n",
       "    </tr>\n",
       "    <tr>\n",
       "      <th>2</th>\n",
       "      <td>Saanvi Lee</td>\n",
       "      <td>81</td>\n",
       "      <td>67</td>\n",
       "      <td>1938</td>\n",
       "      <td>11</td>\n",
       "      <td>Female</td>\n",
       "      <td>766 Third Drive</td>\n",
       "      <td>NaN</td>\n",
       "      <td>West Covina</td>\n",
       "      <td>CA</td>\n",
       "      <td>91792</td>\n",
       "      <td>34.02</td>\n",
       "      <td>-117.89</td>\n",
       "      <td>$22681</td>\n",
       "      <td>$33483</td>\n",
       "      <td>$196</td>\n",
       "      <td>698</td>\n",
       "      <td>5</td>\n",
       "    </tr>\n",
       "    <tr>\n",
       "      <th>3</th>\n",
       "      <td>Everlee Clark</td>\n",
       "      <td>63</td>\n",
       "      <td>63</td>\n",
       "      <td>1957</td>\n",
       "      <td>1</td>\n",
       "      <td>Female</td>\n",
       "      <td>3 Madison Street</td>\n",
       "      <td>NaN</td>\n",
       "      <td>New York</td>\n",
       "      <td>NY</td>\n",
       "      <td>10069</td>\n",
       "      <td>40.71</td>\n",
       "      <td>-73.99</td>\n",
       "      <td>$163145</td>\n",
       "      <td>$249925</td>\n",
       "      <td>$202328</td>\n",
       "      <td>722</td>\n",
       "      <td>4</td>\n",
       "    </tr>\n",
       "    <tr>\n",
       "      <th>4</th>\n",
       "      <td>Kyle Peterson</td>\n",
       "      <td>43</td>\n",
       "      <td>70</td>\n",
       "      <td>1976</td>\n",
       "      <td>9</td>\n",
       "      <td>Male</td>\n",
       "      <td>9620 Valley Stream Drive</td>\n",
       "      <td>NaN</td>\n",
       "      <td>San Francisco</td>\n",
       "      <td>CA</td>\n",
       "      <td>94117</td>\n",
       "      <td>37.76</td>\n",
       "      <td>-122.44</td>\n",
       "      <td>$53797</td>\n",
       "      <td>$109687</td>\n",
       "      <td>$183855</td>\n",
       "      <td>675</td>\n",
       "      <td>1</td>\n",
       "    </tr>\n",
       "  </tbody>\n",
       "</table>\n",
       "</div>"
      ],
      "text/plain": [
       "           person  current_age  retirement_age  birth_year  birth_month  \\\n",
       "0  Hazel Robinson           53              66        1966           11   \n",
       "1      Sasha Sadr           53              68        1966           12   \n",
       "2      Saanvi Lee           81              67        1938           11   \n",
       "3   Everlee Clark           63              63        1957            1   \n",
       "4   Kyle Peterson           43              70        1976            9   \n",
       "\n",
       "   gender                   address  apartment           city state  zipcode  \\\n",
       "0  Female             462 Rose Lane        NaN       La Verne    CA    91750   \n",
       "1  Female    3606 Federal Boulevard        NaN    Little Neck    NY    11363   \n",
       "2  Female           766 Third Drive        NaN    West Covina    CA    91792   \n",
       "3  Female          3 Madison Street        NaN       New York    NY    10069   \n",
       "4    Male  9620 Valley Stream Drive        NaN  San Francisco    CA    94117   \n",
       "\n",
       "   latitude  longitude per_capita_income_zipcode yearly_income_person  \\\n",
       "0     34.15    -117.76                    $29278               $59696   \n",
       "1     40.76     -73.74                    $37891               $77254   \n",
       "2     34.02    -117.89                    $22681               $33483   \n",
       "3     40.71     -73.99                   $163145              $249925   \n",
       "4     37.76    -122.44                    $53797              $109687   \n",
       "\n",
       "  total_debt  fico_score  num_credit_cards  \n",
       "0    $127613         787                 5  \n",
       "1    $191349         701                 5  \n",
       "2       $196         698                 5  \n",
       "3    $202328         722                 4  \n",
       "4    $183855         675                 1  "
      ]
     },
     "execution_count": 28,
     "metadata": {},
     "output_type": "execute_result"
    }
   ],
   "source": [
    "df_user_info.head()"
   ]
  },
  {
   "cell_type": "code",
   "execution_count": 29,
   "metadata": {},
   "outputs": [],
   "source": [
    "df_credit_card_trans = pd.read_sql('SELECT * FROM {}.{} LIMIT 1000'.format(database_name, table_two_csv), conn)"
   ]
  },
  {
   "cell_type": "code",
   "execution_count": 30,
   "metadata": {},
   "outputs": [
    {
     "data": {
      "text/html": [
       "<div>\n",
       "<style scoped>\n",
       "    .dataframe tbody tr th:only-of-type {\n",
       "        vertical-align: middle;\n",
       "    }\n",
       "\n",
       "    .dataframe tbody tr th {\n",
       "        vertical-align: top;\n",
       "    }\n",
       "\n",
       "    .dataframe thead th {\n",
       "        text-align: right;\n",
       "    }\n",
       "</style>\n",
       "<table border=\"1\" class=\"dataframe\">\n",
       "  <thead>\n",
       "    <tr style=\"text-align: right;\">\n",
       "      <th></th>\n",
       "      <th>user</th>\n",
       "      <th>card</th>\n",
       "      <th>year</th>\n",
       "      <th>month</th>\n",
       "      <th>day</th>\n",
       "      <th>time</th>\n",
       "      <th>amount</th>\n",
       "      <th>use_chip</th>\n",
       "      <th>merchant_name</th>\n",
       "      <th>merchant_city</th>\n",
       "      <th>merchant_state</th>\n",
       "      <th>zip</th>\n",
       "      <th>mcc</th>\n",
       "      <th>errors</th>\n",
       "      <th>is_fraud</th>\n",
       "    </tr>\n",
       "  </thead>\n",
       "  <tbody>\n",
       "    <tr>\n",
       "      <th>0</th>\n",
       "      <td>1252</td>\n",
       "      <td>0</td>\n",
       "      <td>2011</td>\n",
       "      <td>7</td>\n",
       "      <td>14</td>\n",
       "      <td>20:04</td>\n",
       "      <td>$63.34</td>\n",
       "      <td>Swipe Transaction</td>\n",
       "      <td>-4716840478510425106</td>\n",
       "      <td>Purcell</td>\n",
       "      <td>OK</td>\n",
       "      <td>73080.0</td>\n",
       "      <td>7230</td>\n",
       "      <td></td>\n",
       "      <td>No</td>\n",
       "    </tr>\n",
       "    <tr>\n",
       "      <th>1</th>\n",
       "      <td>1252</td>\n",
       "      <td>0</td>\n",
       "      <td>2011</td>\n",
       "      <td>7</td>\n",
       "      <td>14</td>\n",
       "      <td>21:38</td>\n",
       "      <td>$16.13</td>\n",
       "      <td>Swipe Transaction</td>\n",
       "      <td>5817218446178736267</td>\n",
       "      <td>Spencer</td>\n",
       "      <td>OK</td>\n",
       "      <td>73084.0</td>\n",
       "      <td>5912</td>\n",
       "      <td></td>\n",
       "      <td>No</td>\n",
       "    </tr>\n",
       "    <tr>\n",
       "      <th>2</th>\n",
       "      <td>1252</td>\n",
       "      <td>0</td>\n",
       "      <td>2011</td>\n",
       "      <td>7</td>\n",
       "      <td>15</td>\n",
       "      <td>09:20</td>\n",
       "      <td>$46.87</td>\n",
       "      <td>Swipe Transaction</td>\n",
       "      <td>2463763636533349415</td>\n",
       "      <td>Rush Springs</td>\n",
       "      <td>OK</td>\n",
       "      <td>73082.0</td>\n",
       "      <td>7349</td>\n",
       "      <td></td>\n",
       "      <td>No</td>\n",
       "    </tr>\n",
       "    <tr>\n",
       "      <th>3</th>\n",
       "      <td>1252</td>\n",
       "      <td>0</td>\n",
       "      <td>2011</td>\n",
       "      <td>7</td>\n",
       "      <td>16</td>\n",
       "      <td>20:12</td>\n",
       "      <td>$30.34</td>\n",
       "      <td>Swipe Transaction</td>\n",
       "      <td>-2472481739355111587</td>\n",
       "      <td>Wynnewood</td>\n",
       "      <td>OK</td>\n",
       "      <td>73098.0</td>\n",
       "      <td>7538</td>\n",
       "      <td></td>\n",
       "      <td>No</td>\n",
       "    </tr>\n",
       "    <tr>\n",
       "      <th>4</th>\n",
       "      <td>1252</td>\n",
       "      <td>0</td>\n",
       "      <td>2011</td>\n",
       "      <td>7</td>\n",
       "      <td>18</td>\n",
       "      <td>16:38</td>\n",
       "      <td>$26.12</td>\n",
       "      <td>Swipe Transaction</td>\n",
       "      <td>-6913437630297895625</td>\n",
       "      <td>Purcell</td>\n",
       "      <td>OK</td>\n",
       "      <td>73080.0</td>\n",
       "      <td>5300</td>\n",
       "      <td></td>\n",
       "      <td>No</td>\n",
       "    </tr>\n",
       "  </tbody>\n",
       "</table>\n",
       "</div>"
      ],
      "text/plain": [
       "   user  card  year  month  day   time  amount           use_chip  \\\n",
       "0  1252     0  2011      7   14  20:04  $63.34  Swipe Transaction   \n",
       "1  1252     0  2011      7   14  21:38  $16.13  Swipe Transaction   \n",
       "2  1252     0  2011      7   15  09:20  $46.87  Swipe Transaction   \n",
       "3  1252     0  2011      7   16  20:12  $30.34  Swipe Transaction   \n",
       "4  1252     0  2011      7   18  16:38  $26.12  Swipe Transaction   \n",
       "\n",
       "          merchant_name merchant_city merchant_state      zip   mcc errors  \\\n",
       "0  -4716840478510425106       Purcell             OK  73080.0  7230          \n",
       "1   5817218446178736267       Spencer             OK  73084.0  5912          \n",
       "2   2463763636533349415  Rush Springs             OK  73082.0  7349          \n",
       "3  -2472481739355111587     Wynnewood             OK  73098.0  7538          \n",
       "4  -6913437630297895625       Purcell             OK  73080.0  5300          \n",
       "\n",
       "  is_fraud  \n",
       "0       No  \n",
       "1       No  \n",
       "2       No  \n",
       "3       No  \n",
       "4       No  "
      ]
     },
     "execution_count": 30,
     "metadata": {},
     "output_type": "execute_result"
    }
   ],
   "source": [
    "df_credit_card_trans.head()"
   ]
  },
  {
   "cell_type": "code",
   "execution_count": 31,
   "metadata": {},
   "outputs": [
    {
     "data": {
      "text/html": [
       "<div>\n",
       "<style scoped>\n",
       "    .dataframe tbody tr th:only-of-type {\n",
       "        vertical-align: middle;\n",
       "    }\n",
       "\n",
       "    .dataframe tbody tr th {\n",
       "        vertical-align: top;\n",
       "    }\n",
       "\n",
       "    .dataframe thead th {\n",
       "        text-align: right;\n",
       "    }\n",
       "</style>\n",
       "<table border=\"1\" class=\"dataframe\">\n",
       "  <thead>\n",
       "    <tr style=\"text-align: right;\">\n",
       "      <th></th>\n",
       "      <th>user</th>\n",
       "      <th>card</th>\n",
       "      <th>year</th>\n",
       "      <th>month</th>\n",
       "      <th>day</th>\n",
       "      <th>time</th>\n",
       "      <th>amount</th>\n",
       "      <th>use_chip</th>\n",
       "      <th>merchant_name</th>\n",
       "      <th>merchant_city</th>\n",
       "      <th>...</th>\n",
       "      <th>card_type</th>\n",
       "      <th>card_number</th>\n",
       "      <th>expires</th>\n",
       "      <th>cvv</th>\n",
       "      <th>has_chip</th>\n",
       "      <th>cards_issued</th>\n",
       "      <th>credit_limit</th>\n",
       "      <th>acct_open_date</th>\n",
       "      <th>year_pin_last_changed</th>\n",
       "      <th>card_on_dark_web</th>\n",
       "    </tr>\n",
       "  </thead>\n",
       "  <tbody>\n",
       "  </tbody>\n",
       "</table>\n",
       "<p>0 rows × 27 columns</p>\n",
       "</div>"
      ],
      "text/plain": [
       "Empty DataFrame\n",
       "Columns: [user, card, year, month, day, time, amount, use_chip, merchant_name, merchant_city, merchant_state, zip, mcc, errors, is_fraud, card_index, card_brand, card_type, card_number, expires, cvv, has_chip, cards_issued, credit_limit, acct_open_date, year_pin_last_changed, card_on_dark_web]\n",
       "Index: []\n",
       "\n",
       "[0 rows x 27 columns]"
      ]
     },
     "execution_count": 31,
     "metadata": {},
     "output_type": "execute_result"
    }
   ],
   "source": [
    "#joining the three dataframes using pandas\n",
    "df_cred_info = pd.merge(df_credit_card_trans, df_cards_info, how = 'inner', on='user')\n",
    "df_cred_info.head()"
   ]
  },
  {
   "cell_type": "code",
   "execution_count": 32,
   "metadata": {},
   "outputs": [
    {
     "data": {
      "text/html": [
       "<div>\n",
       "<style scoped>\n",
       "    .dataframe tbody tr th:only-of-type {\n",
       "        vertical-align: middle;\n",
       "    }\n",
       "\n",
       "    .dataframe tbody tr th {\n",
       "        vertical-align: top;\n",
       "    }\n",
       "\n",
       "    .dataframe thead th {\n",
       "        text-align: right;\n",
       "    }\n",
       "</style>\n",
       "<table border=\"1\" class=\"dataframe\">\n",
       "  <thead>\n",
       "    <tr style=\"text-align: right;\">\n",
       "      <th></th>\n",
       "      <th>user</th>\n",
       "      <th>card</th>\n",
       "      <th>year</th>\n",
       "      <th>month</th>\n",
       "      <th>day</th>\n",
       "      <th>time</th>\n",
       "      <th>amount</th>\n",
       "      <th>use_chip</th>\n",
       "      <th>merchant_name</th>\n",
       "      <th>merchant_city</th>\n",
       "      <th>...</th>\n",
       "      <th>city</th>\n",
       "      <th>state</th>\n",
       "      <th>zipcode</th>\n",
       "      <th>latitude</th>\n",
       "      <th>longitude</th>\n",
       "      <th>per_capita_income_zipcode</th>\n",
       "      <th>yearly_income_person</th>\n",
       "      <th>total_debt</th>\n",
       "      <th>fico_score</th>\n",
       "      <th>num_credit_cards</th>\n",
       "    </tr>\n",
       "  </thead>\n",
       "  <tbody>\n",
       "  </tbody>\n",
       "</table>\n",
       "<p>0 rows × 45 columns</p>\n",
       "</div>"
      ],
      "text/plain": [
       "Empty DataFrame\n",
       "Columns: [user, card, year, month, day, time, amount, use_chip, merchant_name, merchant_city, merchant_state, zip, mcc, errors, is_fraud, card_index, card_brand, card_type, card_number, expires, cvv, has_chip, cards_issued, credit_limit, acct_open_date, year_pin_last_changed, card_on_dark_web, person, current_age, retirement_age, birth_year, birth_month, gender, address, apartment, city, state, zipcode, latitude, longitude, per_capita_income_zipcode, yearly_income_person, total_debt, fico_score, num_credit_cards]\n",
       "Index: []\n",
       "\n",
       "[0 rows x 45 columns]"
      ]
     },
     "execution_count": 32,
     "metadata": {},
     "output_type": "execute_result"
    }
   ],
   "source": [
    "df_joined_tables = pd.merge(df_cred_info, df_user_info, how ='inner', left_on = 'merchant_city', right_on = 'city')\n",
    "df_joined_tables.head()"
   ]
  },
  {
   "cell_type": "code",
   "execution_count": 33,
   "metadata": {},
   "outputs": [],
   "source": [
    "if table_one_csv and table_two_csv and table_three_csv and table_four_csv in df_tables.values:\n",
    "    ingest_create_athena_table_csv_passed = True"
   ]
  },
  {
   "cell_type": "code",
   "execution_count": 34,
   "metadata": {},
   "outputs": [
    {
     "name": "stdout",
     "output_type": "stream",
     "text": [
      "Stored 'ingest_create_athena_table_csv_passed' (bool)\n"
     ]
    }
   ],
   "source": [
    "#storing all variables\n",
    "%store ingest_create_athena_table_csv_passed"
   ]
  },
  {
   "cell_type": "code",
   "execution_count": 35,
   "metadata": {},
   "outputs": [
    {
     "name": "stdout",
     "output_type": "stream",
     "text": [
      "[OK]\n"
     ]
    }
   ],
   "source": [
    "if not df_tables.empty:\n",
    "    print(\"[OK]\")\n",
    "else:\n",
    "    print(\"++++++++++++++++++++++++++++++++++++++++++++++++++++++\")\n",
    "    print(\"[ERROR] YOUR DATA HAS NOT BEEN REGISTERED WITH ATHENA. LOOK IN PREVIOUS CELLS TO FIND THE ISSUE.\")\n",
    "    print(\"++++++++++++++++++++++++++++++++++++++++++++++++++++++\")"
   ]
  },
  {
   "cell_type": "code",
   "execution_count": 36,
   "metadata": {},
   "outputs": [
    {
     "name": "stdout",
     "output_type": "stream",
     "text": [
      "Stored variables and their in-db values:\n",
      "ingest_create_athena_db_passed                         -> True\n",
      "ingest_create_athena_table_csv_passed                  -> True\n",
      "ingest_exploration_passed                              -> False\n",
      "s3_private_path_csv_card_info                          -> 's3://sagemaker-us-east-1-584771966647/finalprojec\n",
      "s3_private_path_csv_credit_card_trans                  -> 's3://sagemaker-us-east-1-584771966647/finalprojec\n",
      "s3_private_path_csv_user_credit_card_trans             -> 's3://sagemaker-us-east-1-584771966647/finalprojec\n",
      "s3_private_path_csv_user_info                          -> 's3://sagemaker-us-east-1-584771966647/finalprojec\n",
      "s3_public_path_csv_card_info                           -> 's3://finalproject-datasets/csv/card_info/'\n",
      "s3_public_path_csv_credit_card_trans                   -> 's3://finalproject-datasets/csv/credit_card_trans/\n",
      "s3_public_path_csv_user_credit_card_trans              -> 's3://finalproject-datasets/csv/user_credit_card_t\n",
      "s3_public_path_csv_user_info                           -> 's3://finalproject-datasets/csv/user_info/'\n",
      "setup_dependencies_passed                              -> True\n",
      "setup_iam_roles_passed                                 -> True\n",
      "setup_instance_check_passed                            -> True\n",
      "setup_s3_bucket_passed                                 -> True\n"
     ]
    }
   ],
   "source": [
    "%store"
   ]
  },
  {
   "cell_type": "code",
   "execution_count": 37,
   "metadata": {},
   "outputs": [
    {
     "data": {
      "text/html": [
       "\n",
       "<p><b>Shutting down your kernel for this notebook to release resources.</b></p>\n",
       "<button class=\"sm-command-button\" data-commandlinker-command=\"kernelmenu:shutdown\" style=\"display:none;\">Shutdown Kernel</button>\n",
       "        \n",
       "<script>\n",
       "try {\n",
       "    els = document.getElementsByClassName(\"sm-command-button\");\n",
       "    els[0].click();\n",
       "}\n",
       "catch(err) {\n",
       "    // NoOp\n",
       "}    \n",
       "</script>\n"
      ],
      "text/plain": [
       "<IPython.core.display.HTML object>"
      ]
     },
     "metadata": {},
     "output_type": "display_data"
    }
   ],
   "source": [
    "%%html\n",
    "\n",
    "<p><b>Shutting down your kernel for this notebook to release resources.</b></p>\n",
    "<button class=\"sm-command-button\" data-commandlinker-command=\"kernelmenu:shutdown\" style=\"display:none;\">Shutdown Kernel</button>\n",
    "        \n",
    "<script>\n",
    "try {\n",
    "    els = document.getElementsByClassName(\"sm-command-button\");\n",
    "    els[0].click();\n",
    "}\n",
    "catch(err) {\n",
    "    // NoOp\n",
    "}    \n",
    "</script>"
   ]
  },
  {
   "cell_type": "code",
   "execution_count": 38,
   "metadata": {},
   "outputs": [
    {
     "data": {
      "application/javascript": [
       "\n",
       "try {\n",
       "    Jupyter.notebook.save_checkpoint();\n",
       "    Jupyter.notebook.session.delete();\n",
       "}\n",
       "catch(err) {\n",
       "    // NoOp\n",
       "}\n"
      ],
      "text/plain": [
       "<IPython.core.display.Javascript object>"
      ]
     },
     "metadata": {},
     "output_type": "display_data"
    }
   ],
   "source": [
    "%%javascript\n",
    "\n",
    "try {\n",
    "    Jupyter.notebook.save_checkpoint();\n",
    "    Jupyter.notebook.session.delete();\n",
    "}\n",
    "catch(err) {\n",
    "    // NoOp\n",
    "}"
   ]
  }
 ],
 "metadata": {
  "kernelspec": {
   "display_name": "Python 3 (Data Science)",
   "language": "python",
   "name": "python3__SAGEMAKER_INTERNAL__arn:aws:sagemaker:us-east-1:081325390199:image/datascience-1.0"
  },
  "language_info": {
   "codemirror_mode": {
    "name": "ipython",
    "version": 3
   },
   "file_extension": ".py",
   "mimetype": "text/x-python",
   "name": "python",
   "nbconvert_exporter": "python",
   "pygments_lexer": "ipython3",
   "version": "3.7.10"
  }
 },
 "nbformat": 4,
 "nbformat_minor": 4
}
