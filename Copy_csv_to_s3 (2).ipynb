{
 "cells": [
  {
   "cell_type": "code",
   "execution_count": 2,
   "metadata": {},
   "outputs": [],
   "source": [
    "#Loading file in sagemaker\n",
    "import boto3\n",
    "import sagemaker\n",
    "import pandas as pd\n",
    "\n",
    "#get region\n",
    "sess = sagemaker.Session()\n",
    "bucket = sess.default_bucket()\n",
    "role = sagemaker.get_execution_role()\n",
    "region_name = boto3.Session().region_name\n",
    "account_id = boto3.client('sts').get_caller_identity().get('Account')\n",
    "s3_client = boto3.client(\"s3\")\n",
    "\n",
    "key = 'sd254_cards.csv'\n",
    "sm = boto3.Session().client(service_name=\"sagemaker\", region_name=region_name)"
   ]
  },
  {
   "cell_type": "code",
   "execution_count": 3,
   "metadata": {},
   "outputs": [],
   "source": [
    "#set s3 location public s3 bucket\n",
    "s3_public_path_csv_credit_card_trans = \"s3://finalproject-datasets/csv/credit_card_trans/\"\n",
    "s3_public_path_csv_user_credit_card_trans = \"s3://finalproject-datasets/csv/user_credit_card_trans/\"\n",
    "s3_public_path_csv_card_info = \"s3://finalproject-datasets/csv/card_info/\"\n",
    "s3_public_path_csv_user_info = \"s3://finalproject-datasets/csv/user_info/\""
   ]
  },
  {
   "cell_type": "code",
   "execution_count": 4,
   "metadata": {},
   "outputs": [
    {
     "name": "stdout",
     "output_type": "stream",
     "text": [
      "Stored 's3_public_path_csv_credit_card_trans' (str)\n",
      "Stored 's3_public_path_csv_user_credit_card_trans' (str)\n",
      "Stored 's3_public_path_csv_card_info' (str)\n",
      "Stored 's3_public_path_csv_user_info' (str)\n"
     ]
    }
   ],
   "source": [
    "#Storing bucket\n",
    "%store s3_public_path_csv_credit_card_trans\n",
    "%store s3_public_path_csv_user_credit_card_trans\n",
    "%store s3_public_path_csv_card_info\n",
    "%store s3_public_path_csv_user_info"
   ]
  },
  {
   "cell_type": "code",
   "execution_count": 5,
   "metadata": {},
   "outputs": [
    {
     "name": "stdout",
     "output_type": "stream",
     "text": [
      "s3://sagemaker-us-east-1-584771966647/finalproject-datasets/csv/credit_card_trans/\n",
      "s3://sagemaker-us-east-1-584771966647/finalproject-datasets/csv/user_credit_card_trans/\n",
      "s3://sagemaker-us-east-1-584771966647/finalproject-datasets/csv/card_info/\n",
      "s3://sagemaker-us-east-1-584771966647/finalproject-datasets/csv/user_info/\n"
     ]
    }
   ],
   "source": [
    "#Set s3 location private s3 bucket\n",
    "s3_private_path_csv_credit_card_trans = \"s3://{}/finalproject-datasets/csv/credit_card_trans/\".format(bucket)\n",
    "s3_private_path_csv_user_credit_card_trans = \"s3://{}/finalproject-datasets/csv/user_credit_card_trans/\".format(bucket)\n",
    "s3_private_path_csv_card_info = \"s3://{}/finalproject-datasets/csv/card_info/\".format(bucket)\n",
    "s3_private_path_csv_user_info = \"s3://{}/finalproject-datasets/csv/user_info/\".format(bucket)\n",
    "print(s3_private_path_csv_credit_card_trans)\n",
    "print(s3_private_path_csv_user_credit_card_trans)\n",
    "print(s3_private_path_csv_card_info)\n",
    "print(s3_private_path_csv_user_info)"
   ]
  },
  {
   "cell_type": "code",
   "execution_count": 6,
   "metadata": {},
   "outputs": [
    {
     "name": "stdout",
     "output_type": "stream",
     "text": [
      "Stored 's3_private_path_csv_credit_card_trans' (str)\n",
      "Stored 's3_private_path_csv_user_credit_card_trans' (str)\n",
      "Stored 's3_private_path_csv_card_info' (str)\n",
      "Stored 's3_private_path_csv_user_info' (str)\n"
     ]
    }
   ],
   "source": [
    "#Storing private bucket\n",
    "%store s3_private_path_csv_credit_card_trans\n",
    "%store s3_private_path_csv_user_credit_card_trans\n",
    "%store s3_private_path_csv_card_info\n",
    "%store s3_private_path_csv_user_info"
   ]
  },
  {
   "cell_type": "code",
   "execution_count": 7,
   "metadata": {},
   "outputs": [
    {
     "name": "stdout",
     "output_type": "stream",
     "text": [
      "copy: s3://finalproject-datasets/csv/credit_card_trans/credit_card_transactions-ibm_v2.csv to s3://sagemaker-us-east-1-584771966647/finalproject-datasets/csv/credit_card_trans/credit_card_transactions-ibm_v2.csv\n",
      "copy: s3://finalproject-datasets/csv/user_credit_card_trans/User0_credit_card_transactions.csv to s3://sagemaker-us-east-1-584771966647/finalproject-datasets/csv/user_credit_card_trans/User0_credit_card_transactions.csv\n",
      "copy: s3://finalproject-datasets/csv/card_info/sd254_cards.csv to s3://sagemaker-us-east-1-584771966647/finalproject-datasets/csv/card_info/sd254_cards.csv\n",
      "copy: s3://finalproject-datasets/csv/user_info/sd254_users.csv to s3://sagemaker-us-east-1-584771966647/finalproject-datasets/csv/user_info/sd254_users.csv\n"
     ]
    }
   ],
   "source": [
    "#copying data to our private bucket\n",
    "!aws s3 cp --recursive $s3_public_path_csv_credit_card_trans $s3_private_path_csv_credit_card_trans --exclude \"*\" --include \"credit_card_transactions-ibm_v2.csv\"\n",
    "!aws s3 cp --recursive $s3_public_path_csv_user_credit_card_trans $s3_private_path_csv_user_credit_card_trans --exclude \"*\" --include \"User0_credit_card_transactions.csv\"\n",
    "!aws s3 cp --recursive $s3_public_path_csv_card_info $s3_private_path_csv_card_info --exclude \"*\" --include \"sd254_cards.csv\"\n",
    "!aws s3 cp --recursive $s3_public_path_csv_user_info $s3_private_path_csv_user_info --exclude \"*\" --include \"sd254_users.csv\""
   ]
  },
  {
   "cell_type": "code",
   "execution_count": 8,
   "metadata": {},
   "outputs": [
    {
     "name": "stdout",
     "output_type": "stream",
     "text": [
      "s3://sagemaker-us-east-1-584771966647/finalproject-datasets/csv/credit_card_trans/\n",
      "s3://sagemaker-us-east-1-584771966647/finalproject-datasets/csv/user_credit_card_trans/\n",
      "s3://sagemaker-us-east-1-584771966647/finalproject-datasets/csv/card_info/\n",
      "s3://sagemaker-us-east-1-584771966647/finalproject-datasets/csv/user_info/\n"
     ]
    }
   ],
   "source": [
    "print(s3_private_path_csv_credit_card_trans)\n",
    "print(s3_private_path_csv_user_credit_card_trans)\n",
    "print(s3_private_path_csv_card_info)\n",
    "print(s3_private_path_csv_user_info)"
   ]
  },
  {
   "cell_type": "code",
   "execution_count": 9,
   "metadata": {},
   "outputs": [
    {
     "name": "stdout",
     "output_type": "stream",
     "text": [
      "2022-04-04 20:12:49 2350744057 credit_card_transactions-ibm_v2.csv\n",
      "2022-04-04 20:13:04    1899258 User0_credit_card_transactions.csv\n",
      "2022-04-04 20:13:05     487120 sd254_cards.csv\n",
      "2022-04-04 20:13:06     224394 sd254_users.csv\n"
     ]
    }
   ],
   "source": [
    "#viewing files in private bucket\n",
    "!aws s3 ls $s3_private_path_csv_credit_card_trans\n",
    "!aws s3 ls $s3_private_path_csv_user_credit_card_trans\n",
    "!aws s3 ls $s3_private_path_csv_card_info\n",
    "!aws s3 ls $s3_private_path_csv_user_info"
   ]
  },
  {
   "cell_type": "code",
   "execution_count": 10,
   "metadata": {},
   "outputs": [
    {
     "name": "stdout",
     "output_type": "stream",
     "text": [
      "Stored variables and their in-db values:\n",
      "ingest_create_athena_db_passed                         -> True\n",
      "ingest_create_athena_table_csv_passed                  -> True\n",
      "ingest_exploration_passed                              -> False\n",
      "s3_private_path_csv_card_info                          -> 's3://sagemaker-us-east-1-584771966647/finalprojec\n",
      "s3_private_path_csv_credit_card_trans                  -> 's3://sagemaker-us-east-1-584771966647/finalprojec\n",
      "s3_private_path_csv_user_credit_card_trans             -> 's3://sagemaker-us-east-1-584771966647/finalprojec\n",
      "s3_private_path_csv_user_info                          -> 's3://sagemaker-us-east-1-584771966647/finalprojec\n",
      "s3_public_path_csv_card_info                           -> 's3://finalproject-datasets/csv/card_info/'\n",
      "s3_public_path_csv_credit_card_trans                   -> 's3://finalproject-datasets/csv/credit_card_trans/\n",
      "s3_public_path_csv_user_credit_card_trans              -> 's3://finalproject-datasets/csv/user_credit_card_t\n",
      "s3_public_path_csv_user_info                           -> 's3://finalproject-datasets/csv/user_info/'\n",
      "setup_dependencies_passed                              -> True\n",
      "setup_iam_roles_passed                                 -> True\n",
      "setup_instance_check_passed                            -> True\n",
      "setup_s3_bucket_passed                                 -> True\n"
     ]
    }
   ],
   "source": [
    "%store"
   ]
  },
  {
   "cell_type": "markdown",
   "metadata": {},
   "source": [
    "# Release Reources"
   ]
  },
  {
   "cell_type": "code",
   "execution_count": 11,
   "metadata": {},
   "outputs": [
    {
     "data": {
      "text/html": [
       "\n",
       "<p><b>Shutting down your kernel for this notebook to release resources.</b></p>\n",
       "<button class=\"sm-command-button\" data-commandlinker-command=\"kernelmenu:shutdown\" style=\"display:none;\">Shutdown Kernel</button>\n",
       "        \n",
       "<script>\n",
       "try {\n",
       "    els = document.getElementsByClassName(\"sm-command-button\");\n",
       "    els[0].click();\n",
       "}\n",
       "catch(err) {\n",
       "    // NoOp\n",
       "}    \n",
       "</script>\n"
      ],
      "text/plain": [
       "<IPython.core.display.HTML object>"
      ]
     },
     "metadata": {},
     "output_type": "display_data"
    }
   ],
   "source": [
    "%%html\n",
    "\n",
    "<p><b>Shutting down your kernel for this notebook to release resources.</b></p>\n",
    "<button class=\"sm-command-button\" data-commandlinker-command=\"kernelmenu:shutdown\" style=\"display:none;\">Shutdown Kernel</button>\n",
    "        \n",
    "<script>\n",
    "try {\n",
    "    els = document.getElementsByClassName(\"sm-command-button\");\n",
    "    els[0].click();\n",
    "}\n",
    "catch(err) {\n",
    "    // NoOp\n",
    "}    \n",
    "</script>"
   ]
  },
  {
   "cell_type": "code",
   "execution_count": 12,
   "metadata": {},
   "outputs": [
    {
     "data": {
      "application/javascript": [
       "\n",
       "try {\n",
       "    Jupyter.notebook.save_checkpoint();\n",
       "    Jupyter.notebook.session.delete();\n",
       "}\n",
       "catch(err) {\n",
       "    // NoOp\n",
       "}\n"
      ],
      "text/plain": [
       "<IPython.core.display.Javascript object>"
      ]
     },
     "metadata": {},
     "output_type": "display_data"
    }
   ],
   "source": [
    "%%javascript\n",
    "\n",
    "try {\n",
    "    Jupyter.notebook.save_checkpoint();\n",
    "    Jupyter.notebook.session.delete();\n",
    "}\n",
    "catch(err) {\n",
    "    // NoOp\n",
    "}"
   ]
  }
 ],
 "metadata": {
  "kernelspec": {
   "display_name": "Python 3 (Data Science)",
   "language": "python",
   "name": "python3__SAGEMAKER_INTERNAL__arn:aws:sagemaker:us-east-1:081325390199:image/datascience-1.0"
  },
  "language_info": {
   "codemirror_mode": {
    "name": "ipython",
    "version": 3
   },
   "file_extension": ".py",
   "mimetype": "text/x-python",
   "name": "python",
   "nbconvert_exporter": "python",
   "pygments_lexer": "ipython3",
   "version": "3.7.10"
  }
 },
 "nbformat": 4,
 "nbformat_minor": 4
}
